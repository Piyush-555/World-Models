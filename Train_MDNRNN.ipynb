{
 "cells": [
  {
   "cell_type": "code",
   "execution_count": 1,
   "metadata": {},
   "outputs": [],
   "source": [
    "# Importing dependencies\n",
    "%matplotlib inline  \n",
    "import os\n",
    "import cv2\n",
    "import time\n",
    "import numpy as np\n",
    "import torch\n",
    "import torch.nn as nn\n",
    "import torchvision\n",
    "import matplotlib.pyplot as plt"
   ]
  },
  {
   "cell_type": "code",
   "execution_count": 2,
   "metadata": {},
   "outputs": [
    {
     "name": "stdout",
     "output_type": "stream",
     "text": [
      "cuda:0\n"
     ]
    }
   ],
   "source": [
    "# Is gpu available?\n",
    "if torch.cuda.is_available():\n",
    "    device = torch.device(\"cuda:0\")\n",
    "else:\n",
    "    device = torch.device(\"cpu\")\n",
    "    \n",
    "print(device)"
   ]
  },
  {
   "cell_type": "code",
   "execution_count": 3,
   "metadata": {},
   "outputs": [
    {
     "name": "stdout",
     "output_type": "stream",
     "text": [
      "Encoder(\n",
      "  (conv1): Sequential(\n",
      "    (0): Conv2d(3, 32, kernel_size=(4, 4), stride=(2, 2))\n",
      "    (1): ReLU()\n",
      "  )\n",
      "  (conv2): Sequential(\n",
      "    (0): Conv2d(32, 64, kernel_size=(4, 4), stride=(2, 2))\n",
      "    (1): ReLU()\n",
      "  )\n",
      "  (conv3): Sequential(\n",
      "    (0): Conv2d(64, 128, kernel_size=(4, 4), stride=(2, 2))\n",
      "    (1): ReLU()\n",
      "  )\n",
      "  (conv4): Sequential(\n",
      "    (0): Conv2d(128, 256, kernel_size=(4, 4), stride=(2, 2))\n",
      "    (1): ReLU()\n",
      "  )\n",
      "  (mu): Sequential(\n",
      "    (0): Linear(in_features=1024, out_features=32, bias=True)\n",
      "  )\n",
      "  (logvar): Sequential(\n",
      "    (0): Linear(in_features=1024, out_features=32, bias=True)\n",
      "  )\n",
      ")\n"
     ]
    }
   ],
   "source": [
    "encoder = torch.load(\"models/encoder-five-epochs.pt\")\n",
    "encoder.to(device)\n",
    "encoder = encoder.eval()\n",
    "print(encoder)"
   ]
  },
  {
   "cell_type": "code",
   "execution_count": 4,
   "metadata": {},
   "outputs": [
    {
     "name": "stdout",
     "output_type": "stream",
     "text": [
      "MDNRNN(\n",
      "  (lstm): LSTM(35, 256)\n",
      "  (mdn): MDN(\n",
      "    (pi): Sequential(\n",
      "      (0): Linear(in_features=256, out_features=5, bias=True)\n",
      "      (1): Softmax(dim=1)\n",
      "    )\n",
      "    (sigma): Linear(in_features=256, out_features=160, bias=True)\n",
      "    (mu): Linear(in_features=256, out_features=160, bias=True)\n",
      "  )\n",
      ")\n"
     ]
    }
   ],
   "source": [
    "from mdnrnn import MDNRNN\n",
    "\n",
    "rnn = MDNRNN()\n",
    "rnn.to(device)\n",
    "print(rnn)"
   ]
  },
  {
   "cell_type": "code",
   "execution_count": 5,
   "metadata": {},
   "outputs": [],
   "source": [
    "# Loss and Optimizer\n",
    "from mdn import mdn_loss\n",
    "from torch.optim import Adam\n",
    "\n",
    "learning_rate = 0.001\n",
    "optim = Adam(rnn.parameters(), lr=learning_rate)"
   ]
  },
  {
   "cell_type": "code",
   "execution_count": 5,
   "metadata": {},
   "outputs": [],
   "source": [
    "from torch.utils.data import Dataset\n",
    "\n",
    "class CarRacingDataset(Dataset):\n",
    "\n",
    "    def __init__(self, data_vstacked, transform=None):\n",
    "        self.observations = data_vstacked[:, 0]\n",
    "        self.actions = data_vstacked[:, 1]\n",
    "        self.transform = transform\n",
    "\n",
    "    def __len__(self):\n",
    "        return len(self.actions)\n",
    "\n",
    "    def __getitem__(self, idx):\n",
    "        observation = self.observations[idx]\n",
    "        action = self.actions[idx]\n",
    "        observation = cv2.resize(observation, (64, 64))\n",
    "        if self.transform:\n",
    "            observation = self.transform(observation)\n",
    "            action = torch.tensor(action)\n",
    "        return observation, action"
   ]
  },
  {
   "cell_type": "code",
   "execution_count": 7,
   "metadata": {},
   "outputs": [
    {
     "name": "stdout",
     "output_type": "stream",
     "text": [
      "Training batch-1..\n"
     ]
    },
    {
     "ename": "NameError",
     "evalue": "name 'optim' is not defined",
     "output_type": "error",
     "traceback": [
      "\u001b[0;31m---------------------------------------------------------------------------\u001b[0m",
      "\u001b[0;31mNameError\u001b[0m                                 Traceback (most recent call last)",
      "\u001b[0;32m<ipython-input-7-878e27869b23>\u001b[0m in \u001b[0;36m<module>\u001b[0;34m\u001b[0m\n\u001b[1;32m     38\u001b[0m         \u001b[0;32mfor\u001b[0m \u001b[0mobservation\u001b[0m\u001b[0;34m,\u001b[0m \u001b[0maction\u001b[0m \u001b[0;32min\u001b[0m \u001b[0mdata_loader\u001b[0m\u001b[0;34m:\u001b[0m\u001b[0;34m\u001b[0m\u001b[0;34m\u001b[0m\u001b[0m\n\u001b[1;32m     39\u001b[0m             \u001b[0;31m# Training MDNRNN\u001b[0m\u001b[0;34m\u001b[0m\u001b[0;34m\u001b[0m\u001b[0;34m\u001b[0m\u001b[0m\n\u001b[0;32m---> 40\u001b[0;31m             \u001b[0moptim\u001b[0m\u001b[0;34m.\u001b[0m\u001b[0mzero_grad\u001b[0m\u001b[0;34m(\u001b[0m\u001b[0;34m)\u001b[0m\u001b[0;34m\u001b[0m\u001b[0;34m\u001b[0m\u001b[0m\n\u001b[0m\u001b[1;32m     41\u001b[0m \u001b[0;34m\u001b[0m\u001b[0m\n\u001b[1;32m     42\u001b[0m             \u001b[0mobservation\u001b[0m\u001b[0;34m,\u001b[0m \u001b[0maction\u001b[0m \u001b[0;34m=\u001b[0m \u001b[0mobservation\u001b[0m\u001b[0;34m.\u001b[0m\u001b[0mto\u001b[0m\u001b[0;34m(\u001b[0m\u001b[0mdevice\u001b[0m\u001b[0;34m)\u001b[0m\u001b[0;34m,\u001b[0m \u001b[0maction\u001b[0m\u001b[0;34m.\u001b[0m\u001b[0mto\u001b[0m\u001b[0;34m(\u001b[0m\u001b[0mdevice\u001b[0m\u001b[0;34m)\u001b[0m\u001b[0;34m\u001b[0m\u001b[0;34m\u001b[0m\u001b[0m\n",
      "\u001b[0;31mNameError\u001b[0m: name 'optim' is not defined"
     ]
    }
   ],
   "source": [
    "# Training\n",
    "from torch.utils.data import DataLoader\n",
    "from torchvision import transforms\n",
    "\n",
    "tensorize = transforms.Compose([transforms.ToTensor(),])\n",
    "\n",
    "data_dir = \"../../../../../media/piyush/New Volume/dataset/\"\n",
    "NUM_FILES = len(os.listdir(data_dir))\n",
    "NUM_TRAIN_FILES = NUM_FILES * 80 // 100\n",
    "NUM_VAL_FILES = NUM_FILES - NUM_TRAIN_FILES\n",
    "NUM_EPOCHS = 1\n",
    "NUM_WORKERS = 8\n",
    "BATCH_SIZE = 512\n",
    "stats = {\n",
    "    \"train_loss\":[],\n",
    "    \"val_loss\":[]\n",
    "}\n",
    "\n",
    "for epoch in range(NUM_EPOCHS):\n",
    "    # In an epoch\n",
    "    train_loss = 0\n",
    "    val_loss = 0\n",
    "    h, c = MDNRNN._init_hidden(BATCH_SIZE)\n",
    "    h, c = h.to(device), c.to(device)\n",
    "    for file_number in range(1, NUM_TRAIN_FILES + 1):\n",
    "        running_loss=0\n",
    "        # For *.npy files\n",
    "        print(\"Training batch-{}..\".format(file_number))\n",
    "        \n",
    "        # Prepare dataset\n",
    "        filename = data_dir + \"batch-{}.npy\".format(file_number)\n",
    "        data = np.load(filename, allow_pickle=True)\n",
    "        data = np.vstack((data[0], data[1], data[2], data[3]))\n",
    "        data_set = CarRacingDataset(data, transform=tensorize)\n",
    "        data_loader = DataLoader(data_set, batch_size=BATCH_SIZE, shuffle=False, num_workers=NUM_WORKERS, drop_last=True)\n",
    "        NUM_TRAIN_BATCHES = len(data_loader)\n",
    "        \n",
    "        for observation, action in data_loader:\n",
    "            # Training MDNRNN\n",
    "            optim.zero_grad()\n",
    "            \n",
    "            observation, action = observation.to(device), action.to(device)\n",
    "            latent_z = encoder(observation)\n",
    "            print(\"z\", latent_z)\n",
    "            z_a = torch.cat([latent_z, action], dim=-1)\n",
    "            pi, mu, sigma, h_next, c_next = rnn(z_a, h, c)\n",
    "            print(\"pi\", pi, mu, sigma)\n",
    "            loss = Loss(pi, sigma, mu, latent_z)\n",
    "            loss.backward()\n",
    "            optim.step()\n",
    "            train_loss += loss.item()\n",
    "            running_loss += loss.item()\n",
    "            print(loss.item())\n",
    "        print(running_loss/BATCH_SIZE)\n",
    "\n",
    "    rnn = rnn.eval()\n",
    "    for file_number in range(NUM_TRAIN_FILES + 1, NUM_FILES + 1):\n",
    "        # For *.npy files\n",
    "        print(\"Validating batch-{}..\".format(file_number))\n",
    "        \n",
    "        # Prepare dataset\n",
    "        filename = data_dir + \"batch-{}.npy\".format(file_number)\n",
    "        data = np.load(filename, allow_pickle=True)\n",
    "        data = np.vstack((data[0], data[1], data[2], data[3]))\n",
    "        data_set = CarRacingDataset(data, transform=tensorize)\n",
    "        data_loader = DataLoader(data_set, batch_size=BATCH_SIZE, shuffle=False, num_workers=NUM_WORKERS, drop_last=True)\n",
    "        NUM_VAL_BATCHES = len(data_loader)\n",
    "        \n",
    "        for observation, action in data_loader:\n",
    "            # Validating MDNRNN\n",
    "            observation, action = observation.to(device), action.to(device)\n",
    "            latent_z = encoder(observation)\n",
    "            \n",
    "            (pi, mu, sigma), hidden = rnn([latent_z, action, hidden])\n",
    "            loss = Loss(pi, sigma, mu, latent_z)\n",
    "            val_loss += loss.item()\n",
    "\n",
    "    rnn = rnn.train()\n",
    "\n",
    "    stats[\"train_loss\"].append(train_loss/NUM_TRAIN_BATCHES)\n",
    "    stats[\"val_loss\"].append(val_loss/NUM_VAL_BATCHES)\n",
    "    print(\"Epoch {}: train_loss: {} val_loss: {}\".format(\n",
    "        epoch + 1, stats[\"train_loss\"][-1], stats[\"val_loss\"][-1]))\n",
    "    show_image(iter(data_loader).next()[np.random.randint(0, 64)])\n",
    "plot_losses(stats)        "
   ]
  },
  {
   "cell_type": "code",
   "execution_count": 10,
   "metadata": {},
   "outputs": [],
   "source": [
    "torch.save(rnn, \"models/mdnrnn-wo-training.pt\")"
   ]
  },
  {
   "cell_type": "code",
   "execution_count": 26,
   "metadata": {},
   "outputs": [
    {
     "name": "stdout",
     "output_type": "stream",
     "text": [
      "y tensor([[[-1.7343e-02, -6.0662e-02, -1.5797e-02, -2.2258e-02, -6.2107e-02,\n",
      "           2.6263e-02, -1.4514e-02,  3.9017e-03,  2.3938e-02,  5.6532e-03,\n",
      "           4.9630e-02,  3.4962e-02, -2.2062e-03,  1.8551e-02, -5.9229e-03,\n",
      "          -2.2910e-02,  3.3441e-02,  7.8926e-03,  1.6763e-02,  1.7000e-02,\n",
      "           2.9075e-02, -2.7174e-03, -4.6771e-02,  2.4970e-02,  1.7634e-02,\n",
      "           1.7161e-02, -1.6823e-02,  1.0473e-02,  3.9788e-03,  2.4043e-02,\n",
      "          -5.2696e-02,  3.7409e-02,  3.1482e-02,  6.2099e-02,  2.8007e-02,\n",
      "           5.1247e-02,  2.2397e-02,  8.6895e-04, -2.0262e-02,  3.4760e-02,\n",
      "          -6.7242e-03,  3.1677e-02,  3.7129e-02, -3.3772e-02,  1.5815e-03,\n",
      "          -1.2020e-01, -1.0366e-01, -2.3364e-02,  2.9802e-02,  5.4655e-02,\n",
      "          -4.1443e-02,  4.1462e-02,  6.8035e-02,  1.5134e-02,  6.7596e-02,\n",
      "           4.5737e-02, -4.9722e-02, -1.1240e-02,  8.0979e-02,  5.1075e-02,\n",
      "           7.0714e-02, -3.3030e-02,  4.1902e-02, -2.8272e-02, -9.4737e-02,\n",
      "           3.0064e-02,  2.0936e-02, -2.4943e-02, -4.4219e-02,  1.1427e-03,\n",
      "          -8.8486e-03, -7.3022e-02, -5.4958e-03, -2.5760e-02, -6.6940e-02,\n",
      "          -3.3622e-02,  3.5715e-02, -6.4134e-02,  1.2843e-03, -3.6617e-02,\n",
      "          -6.1231e-03, -1.9816e-02, -9.1777e-03,  4.8015e-03, -3.1633e-02,\n",
      "          -1.8696e-02, -9.5866e-04, -9.5363e-03,  7.3692e-03, -5.7142e-02,\n",
      "           6.9589e-02,  7.8104e-03,  7.2241e-03, -2.0617e-03, -4.5736e-02,\n",
      "           2.2011e-02,  1.0836e-02,  6.7958e-02,  7.5064e-03, -9.8900e-03,\n",
      "           3.0551e-02, -7.9245e-03, -4.2240e-03, -7.6229e-02,  5.3257e-03,\n",
      "          -2.0737e-02,  3.4206e-02, -7.7089e-02, -8.7024e-03, -1.1038e-02,\n",
      "           2.9434e-02,  3.0500e-02, -3.2745e-05, -7.7034e-02, -3.9611e-02,\n",
      "          -4.4183e-02,  8.1824e-02,  7.9720e-03,  1.1061e-01, -3.0298e-02,\n",
      "          -3.0908e-02,  4.2663e-02,  4.5717e-02,  1.3326e-02, -4.4657e-02,\n",
      "           9.4476e-03,  3.8681e-02, -3.7959e-02, -4.4844e-02, -2.2681e-02,\n",
      "          -4.7472e-03, -1.2015e-03,  2.3010e-03,  2.7452e-02, -6.6540e-03,\n",
      "          -1.7829e-02, -2.7425e-02, -3.2609e-02,  2.0277e-03, -7.0547e-02,\n",
      "           2.4459e-02, -1.7118e-02,  4.2464e-02, -2.5337e-02,  5.4545e-02,\n",
      "          -3.3200e-02,  4.5664e-02,  1.1930e-02,  3.2794e-02, -4.2886e-02,\n",
      "           5.8826e-02, -7.3526e-03, -1.2565e-02, -2.1366e-03, -3.2590e-02,\n",
      "           9.3186e-03, -3.7991e-02, -2.9117e-02, -2.6897e-02, -2.3293e-02,\n",
      "           3.8041e-02, -7.2231e-03, -6.3267e-03,  4.9132e-03,  3.3433e-02,\n",
      "          -2.1354e-02,  6.3456e-02, -5.5306e-03, -2.2037e-02,  1.0971e-02,\n",
      "           1.0302e-02, -6.3234e-02, -1.7747e-02, -5.9340e-02,  8.3595e-03,\n",
      "          -1.0844e-02, -8.4974e-03, -4.8716e-02,  2.0416e-02,  1.2819e-02,\n",
      "           1.7819e-02, -3.7520e-02,  1.8216e-02, -1.0830e-02,  7.9145e-02,\n",
      "           6.5410e-03,  7.6494e-02, -1.4988e-02, -3.5187e-02,  4.4476e-02,\n",
      "          -2.3387e-02,  3.4544e-02, -2.0763e-03, -5.0706e-02,  2.6692e-02,\n",
      "          -2.6633e-02, -7.6986e-03,  6.2542e-02, -2.5267e-02, -9.6657e-03,\n",
      "          -3.6202e-02,  3.9957e-02, -1.9466e-02,  1.0437e-02,  1.5645e-02,\n",
      "           2.5038e-02,  2.6250e-02, -4.7062e-02, -2.2536e-02, -2.0435e-02,\n",
      "           1.1748e-03,  7.4800e-02, -6.6832e-02,  3.9969e-02, -3.4766e-02,\n",
      "           4.7809e-02,  5.2085e-02,  3.1347e-02,  3.9426e-02,  3.2529e-03,\n",
      "           3.4411e-02,  3.0485e-02, -8.8144e-02, -1.4081e-02,  1.5202e-02,\n",
      "           2.6802e-02, -6.6077e-03,  3.0734e-02,  7.6617e-02, -1.9717e-02,\n",
      "           6.5678e-03, -9.7927e-03,  6.8631e-03, -4.7196e-02, -1.2038e-03,\n",
      "          -2.9774e-02,  4.5101e-03,  4.4567e-03,  3.9365e-02,  1.0903e-02,\n",
      "           1.0377e-02, -4.2245e-03, -1.5935e-02,  4.0930e-02,  1.8339e-02,\n",
      "          -1.7570e-02, -3.1976e-02, -2.1984e-02, -1.1054e-02, -5.1914e-03,\n",
      "          -3.7022e-02,  2.4112e-02, -9.5109e-03,  1.2396e-02,  3.4573e-02,\n",
      "          -3.2726e-02]]], device='cuda:0', grad_fn=<CudnnRnnBackward>)\n",
      "tensor([[[-1.7343e-02, -6.0662e-02, -1.5797e-02, -2.2258e-02, -6.2107e-02,\n",
      "           2.6263e-02, -1.4514e-02,  3.9017e-03,  2.3938e-02,  5.6532e-03,\n",
      "           4.9630e-02,  3.4962e-02, -2.2062e-03,  1.8551e-02, -5.9229e-03,\n",
      "          -2.2910e-02,  3.3441e-02,  7.8926e-03,  1.6763e-02,  1.7000e-02,\n",
      "           2.9075e-02, -2.7174e-03, -4.6771e-02,  2.4970e-02,  1.7634e-02,\n",
      "           1.7161e-02, -1.6823e-02,  1.0473e-02,  3.9788e-03,  2.4043e-02,\n",
      "          -5.2696e-02,  3.7409e-02,  3.1482e-02,  6.2099e-02,  2.8007e-02,\n",
      "           5.1247e-02,  2.2397e-02,  8.6895e-04, -2.0262e-02,  3.4760e-02,\n",
      "          -6.7242e-03,  3.1677e-02,  3.7129e-02, -3.3772e-02,  1.5815e-03,\n",
      "          -1.2020e-01, -1.0366e-01, -2.3364e-02,  2.9802e-02,  5.4655e-02,\n",
      "          -4.1443e-02,  4.1462e-02,  6.8035e-02,  1.5134e-02,  6.7596e-02,\n",
      "           4.5737e-02, -4.9722e-02, -1.1240e-02,  8.0979e-02,  5.1075e-02,\n",
      "           7.0714e-02, -3.3030e-02,  4.1902e-02, -2.8272e-02, -9.4737e-02,\n",
      "           3.0064e-02,  2.0936e-02, -2.4943e-02, -4.4219e-02,  1.1427e-03,\n",
      "          -8.8486e-03, -7.3022e-02, -5.4958e-03, -2.5760e-02, -6.6940e-02,\n",
      "          -3.3622e-02,  3.5715e-02, -6.4134e-02,  1.2843e-03, -3.6617e-02,\n",
      "          -6.1231e-03, -1.9816e-02, -9.1777e-03,  4.8015e-03, -3.1633e-02,\n",
      "          -1.8696e-02, -9.5866e-04, -9.5363e-03,  7.3692e-03, -5.7142e-02,\n",
      "           6.9589e-02,  7.8104e-03,  7.2241e-03, -2.0617e-03, -4.5736e-02,\n",
      "           2.2011e-02,  1.0836e-02,  6.7958e-02,  7.5064e-03, -9.8900e-03,\n",
      "           3.0551e-02, -7.9245e-03, -4.2240e-03, -7.6229e-02,  5.3257e-03,\n",
      "          -2.0737e-02,  3.4206e-02, -7.7089e-02, -8.7024e-03, -1.1038e-02,\n",
      "           2.9434e-02,  3.0500e-02, -3.2745e-05, -7.7034e-02, -3.9611e-02,\n",
      "          -4.4183e-02,  8.1824e-02,  7.9720e-03,  1.1061e-01, -3.0298e-02,\n",
      "          -3.0908e-02,  4.2663e-02,  4.5717e-02,  1.3326e-02, -4.4657e-02,\n",
      "           9.4476e-03,  3.8681e-02, -3.7959e-02, -4.4844e-02, -2.2681e-02,\n",
      "          -4.7472e-03, -1.2015e-03,  2.3010e-03,  2.7452e-02, -6.6540e-03,\n",
      "          -1.7829e-02, -2.7425e-02, -3.2609e-02,  2.0277e-03, -7.0547e-02,\n",
      "           2.4459e-02, -1.7118e-02,  4.2464e-02, -2.5337e-02,  5.4545e-02,\n",
      "          -3.3200e-02,  4.5664e-02,  1.1930e-02,  3.2794e-02, -4.2886e-02,\n",
      "           5.8826e-02, -7.3526e-03, -1.2565e-02, -2.1366e-03, -3.2590e-02,\n",
      "           9.3186e-03, -3.7991e-02, -2.9117e-02, -2.6897e-02, -2.3293e-02,\n",
      "           3.8041e-02, -7.2231e-03, -6.3267e-03,  4.9132e-03,  3.3433e-02,\n",
      "          -2.1354e-02,  6.3456e-02, -5.5306e-03, -2.2037e-02,  1.0971e-02,\n",
      "           1.0302e-02, -6.3234e-02, -1.7747e-02, -5.9340e-02,  8.3595e-03,\n",
      "          -1.0844e-02, -8.4974e-03, -4.8716e-02,  2.0416e-02,  1.2819e-02,\n",
      "           1.7819e-02, -3.7520e-02,  1.8216e-02, -1.0830e-02,  7.9145e-02,\n",
      "           6.5410e-03,  7.6494e-02, -1.4988e-02, -3.5187e-02,  4.4476e-02,\n",
      "          -2.3387e-02,  3.4544e-02, -2.0763e-03, -5.0706e-02,  2.6692e-02,\n",
      "          -2.6633e-02, -7.6986e-03,  6.2542e-02, -2.5267e-02, -9.6657e-03,\n",
      "          -3.6202e-02,  3.9957e-02, -1.9466e-02,  1.0437e-02,  1.5645e-02,\n",
      "           2.5038e-02,  2.6250e-02, -4.7062e-02, -2.2536e-02, -2.0435e-02,\n",
      "           1.1748e-03,  7.4800e-02, -6.6832e-02,  3.9969e-02, -3.4766e-02,\n",
      "           4.7809e-02,  5.2085e-02,  3.1347e-02,  3.9426e-02,  3.2529e-03,\n",
      "           3.4411e-02,  3.0485e-02, -8.8144e-02, -1.4081e-02,  1.5202e-02,\n",
      "           2.6802e-02, -6.6077e-03,  3.0734e-02,  7.6617e-02, -1.9717e-02,\n",
      "           6.5678e-03, -9.7927e-03,  6.8631e-03, -4.7196e-02, -1.2038e-03,\n",
      "          -2.9774e-02,  4.5101e-03,  4.4567e-03,  3.9365e-02,  1.0903e-02,\n",
      "           1.0377e-02, -4.2245e-03, -1.5935e-02,  4.0930e-02,  1.8339e-02,\n",
      "          -1.7570e-02, -3.1976e-02, -2.1984e-02, -1.1054e-02, -5.1914e-03,\n",
      "          -3.7022e-02,  2.4112e-02, -9.5109e-03,  1.2396e-02,  3.4573e-02,\n",
      "          -3.2726e-02]]], device='cuda:0', grad_fn=<CudnnRnnBackward>) tensor([[[-3.5104e-02, -1.3391e-01, -3.4111e-02, -4.7751e-02, -1.4253e-01,\n",
      "           4.8356e-02, -3.1199e-02,  7.4006e-03,  4.6233e-02,  1.2107e-02,\n",
      "           9.2986e-02,  7.4799e-02, -4.4403e-03,  3.7568e-02, -1.2049e-02,\n",
      "          -4.9149e-02,  6.7089e-02,  1.5698e-02,  3.4583e-02,  3.7195e-02,\n",
      "           5.2721e-02, -5.1531e-03, -8.7176e-02,  4.5108e-02,  3.3402e-02,\n",
      "           3.2246e-02, -3.6572e-02,  2.5233e-02,  7.7033e-03,  4.5958e-02,\n",
      "          -1.0738e-01,  7.4100e-02,  5.7475e-02,  1.2220e-01,  5.1999e-02,\n",
      "           9.3024e-02,  4.7820e-02,  1.5999e-03, -3.7715e-02,  6.9774e-02,\n",
      "          -1.3463e-02,  6.1278e-02,  7.2871e-02, -6.4198e-02,  3.2544e-03,\n",
      "          -2.1999e-01, -1.9173e-01, -4.2863e-02,  6.0852e-02,  1.0785e-01,\n",
      "          -7.7961e-02,  8.4871e-02,  1.3887e-01,  3.3749e-02,  1.1545e-01,\n",
      "           9.0077e-02, -1.0909e-01, -2.2199e-02,  1.7965e-01,  1.1133e-01,\n",
      "           1.4325e-01, -7.1976e-02,  7.6534e-02, -5.4160e-02, -1.9152e-01,\n",
      "           5.9930e-02,  5.2211e-02, -4.7096e-02, -8.9868e-02,  2.3672e-03,\n",
      "          -1.8463e-02, -1.3917e-01, -1.3502e-02, -4.7785e-02, -1.4367e-01,\n",
      "          -7.1498e-02,  6.9377e-02, -1.3078e-01,  2.4929e-03, -7.5476e-02,\n",
      "          -1.2319e-02, -4.9169e-02, -1.8285e-02,  9.0863e-03, -8.1995e-02,\n",
      "          -3.8068e-02, -1.9469e-03, -1.6323e-02,  1.4089e-02, -1.2654e-01,\n",
      "           1.3254e-01,  1.8024e-02,  1.4716e-02, -4.5835e-03, -8.8595e-02,\n",
      "           4.0631e-02,  2.0831e-02,  1.4836e-01,  1.6068e-02, -1.9590e-02,\n",
      "           5.2206e-02, -1.4493e-02, -8.2722e-03, -1.6530e-01,  9.6437e-03,\n",
      "          -3.8912e-02,  7.2689e-02, -1.5445e-01, -1.7522e-02, -2.0790e-02,\n",
      "           6.2938e-02,  5.9985e-02, -6.1383e-05, -1.4599e-01, -8.1580e-02,\n",
      "          -8.2941e-02,  1.5311e-01,  1.7969e-02,  2.0171e-01, -6.0493e-02,\n",
      "          -6.0678e-02,  8.8926e-02,  9.1857e-02,  3.2712e-02, -9.1006e-02,\n",
      "           2.1509e-02,  7.4291e-02, -8.1166e-02, -9.5606e-02, -4.2599e-02,\n",
      "          -1.1030e-02, -2.7305e-03,  5.2215e-03,  5.3952e-02, -1.2036e-02,\n",
      "          -3.8406e-02, -5.3083e-02, -6.7945e-02,  3.5985e-03, -1.6966e-01,\n",
      "           5.4421e-02, -3.5863e-02,  7.6194e-02, -4.9821e-02,  1.1387e-01,\n",
      "          -6.7170e-02,  9.7878e-02,  2.1652e-02,  6.7917e-02, -9.3957e-02,\n",
      "           1.1748e-01, -1.5134e-02, -2.3286e-02, -4.3260e-03, -6.7184e-02,\n",
      "           1.9975e-02, -7.7109e-02, -5.4704e-02, -5.4230e-02, -4.6020e-02,\n",
      "           7.0304e-02, -1.5809e-02, -1.2102e-02,  9.5551e-03,  6.5588e-02,\n",
      "          -4.7562e-02,  1.2461e-01, -1.0792e-02, -4.1877e-02,  2.0491e-02,\n",
      "           2.1147e-02, -1.1509e-01, -3.5529e-02, -1.2318e-01,  1.6453e-02,\n",
      "          -2.3505e-02, -1.6091e-02, -1.0378e-01,  4.1975e-02,  2.3156e-02,\n",
      "           3.3915e-02, -7.1105e-02,  3.7506e-02, -2.0304e-02,  1.4103e-01,\n",
      "           1.2602e-02,  1.4977e-01, -2.9523e-02, -7.4279e-02,  8.6077e-02,\n",
      "          -4.3307e-02,  7.0433e-02, -4.3982e-03, -9.9804e-02,  5.6795e-02,\n",
      "          -5.7429e-02, -1.5760e-02,  1.1183e-01, -4.9825e-02, -1.9217e-02,\n",
      "          -6.6883e-02,  8.4970e-02, -4.1079e-02,  1.9645e-02,  3.4072e-02,\n",
      "           4.8303e-02,  5.3011e-02, -8.9302e-02, -4.7185e-02, -3.9258e-02,\n",
      "           2.1501e-03,  1.3547e-01, -1.3413e-01,  8.4910e-02, -6.7071e-02,\n",
      "           1.0213e-01,  1.0351e-01,  6.3645e-02,  7.8739e-02,  6.1629e-03,\n",
      "           6.7190e-02,  5.8490e-02, -1.9235e-01, -2.7330e-02,  2.8890e-02,\n",
      "           4.7760e-02, -1.2194e-02,  6.1036e-02,  1.8596e-01, -3.6862e-02,\n",
      "           1.3068e-02, -1.9763e-02,  1.3712e-02, -1.0628e-01, -2.5344e-03,\n",
      "          -5.4656e-02,  8.1568e-03,  8.9828e-03,  8.7197e-02,  2.0942e-02,\n",
      "           2.0961e-02, -7.6730e-03, -2.9328e-02,  8.2816e-02,  3.3167e-02,\n",
      "          -3.4309e-02, -5.6556e-02, -5.4000e-02, -2.4479e-02, -1.0581e-02,\n",
      "          -9.3553e-02,  4.9041e-02, -2.0705e-02,  2.4837e-02,  6.6323e-02,\n",
      "          -6.5722e-02]]], device='cuda:0', grad_fn=<CudnnRnnBackward>)\n"
     ]
    },
    {
     "ename": "NameError",
     "evalue": "name 'vae' is not defined",
     "output_type": "error",
     "traceback": [
      "\u001b[0;31m---------------------------------------------------------------------------\u001b[0m",
      "\u001b[0;31mNameError\u001b[0m                                 Traceback (most recent call last)",
      "\u001b[0;32m<ipython-input-26-61d12f419b99>\u001b[0m in \u001b[0;36m<module>\u001b[0;34m\u001b[0m\n\u001b[1;32m      7\u001b[0m \u001b[0mpi\u001b[0m\u001b[0;34m,\u001b[0m \u001b[0msigma\u001b[0m\u001b[0;34m,\u001b[0m \u001b[0mmu\u001b[0m\u001b[0;34m,\u001b[0m \u001b[0m_\u001b[0m\u001b[0;34m,\u001b[0m \u001b[0m_\u001b[0m \u001b[0;34m=\u001b[0m \u001b[0mrnn\u001b[0m\u001b[0;34m(\u001b[0m\u001b[0mz_a\u001b[0m\u001b[0;34m.\u001b[0m\u001b[0munsqueeze\u001b[0m\u001b[0;34m(\u001b[0m\u001b[0;36m0\u001b[0m\u001b[0;34m)\u001b[0m\u001b[0;34m,\u001b[0m \u001b[0mh\u001b[0m\u001b[0;34m.\u001b[0m\u001b[0munsqueeze\u001b[0m\u001b[0;34m(\u001b[0m\u001b[0;36m0\u001b[0m\u001b[0;34m)\u001b[0m\u001b[0;34m,\u001b[0m \u001b[0mc\u001b[0m\u001b[0;34m.\u001b[0m\u001b[0munsqueeze\u001b[0m\u001b[0;34m(\u001b[0m\u001b[0;36m0\u001b[0m\u001b[0;34m)\u001b[0m\u001b[0;34m)\u001b[0m\u001b[0;34m\u001b[0m\u001b[0;34m\u001b[0m\u001b[0m\n\u001b[1;32m      8\u001b[0m \u001b[0my_preds\u001b[0m \u001b[0;34m=\u001b[0m \u001b[0;34m[\u001b[0m\u001b[0mtorch\u001b[0m\u001b[0;34m.\u001b[0m\u001b[0mnormal\u001b[0m\u001b[0;34m(\u001b[0m\u001b[0mmu\u001b[0m\u001b[0;34m.\u001b[0m\u001b[0munsqueeze\u001b[0m\u001b[0;34m(\u001b[0m\u001b[0;36m0\u001b[0m\u001b[0;34m)\u001b[0m\u001b[0;34m,\u001b[0m \u001b[0msigma\u001b[0m\u001b[0;34m.\u001b[0m\u001b[0munsqueeze\u001b[0m\u001b[0;34m(\u001b[0m\u001b[0;36m0\u001b[0m\u001b[0;34m)\u001b[0m\u001b[0;34m)\u001b[0m\u001b[0;34m[\u001b[0m\u001b[0;34m:\u001b[0m\u001b[0;34m,\u001b[0m \u001b[0;34m:\u001b[0m\u001b[0;34m,\u001b[0m \u001b[0mi\u001b[0m\u001b[0;34m,\u001b[0m \u001b[0;34m:\u001b[0m\u001b[0;34m]\u001b[0m \u001b[0;32mfor\u001b[0m \u001b[0mi\u001b[0m \u001b[0;32min\u001b[0m \u001b[0mrange\u001b[0m\u001b[0;34m(\u001b[0m\u001b[0;36m5\u001b[0m\u001b[0;34m)\u001b[0m\u001b[0;34m]\u001b[0m\u001b[0;34m\u001b[0m\u001b[0;34m\u001b[0m\u001b[0m\n\u001b[0;32m----> 9\u001b[0;31m \u001b[0mcompare_x\u001b[0m \u001b[0;34m=\u001b[0m \u001b[0mvae\u001b[0m\u001b[0;34m.\u001b[0m\u001b[0mdecode\u001b[0m\u001b[0;34m(\u001b[0m\u001b[0mtorch\u001b[0m\u001b[0;34m.\u001b[0m\u001b[0mcat\u001b[0m\u001b[0;34m(\u001b[0m\u001b[0;34m[\u001b[0m\u001b[0mx\u001b[0m\u001b[0;34m,\u001b[0m \u001b[0my\u001b[0m\u001b[0;34m]\u001b[0m \u001b[0;34m+\u001b[0m \u001b[0my_preds\u001b[0m\u001b[0;34m)\u001b[0m\u001b[0;34m)\u001b[0m\u001b[0;34m\u001b[0m\u001b[0;34m\u001b[0m\u001b[0m\n\u001b[0m",
      "\u001b[0;31mNameError\u001b[0m: name 'vae' is not defined"
     ]
    }
   ],
   "source": [
    "observation, action = iter(data_loader).next()\n",
    "observation, action = observation[500].to(device), action[500].to(device)\n",
    "latent_z = encoder(observation.unsqueeze(0))\n",
    "z_a = torch.cat([latent_z, action.unsqueeze(0)], dim=-1)\n",
    "h, c = rnn._init_hidden(1)\n",
    "h, c = [x.to(device) for x in (h, c)]\n",
    "pi, sigma, mu, _, _ = rnn(z_a.unsqueeze(0), h.unsqueeze(0), c.unsqueeze(0))\n",
    "y_preds = [torch.normal(mu.unsqueeze(0), sigma.unsqueeze(0))[:, :, i, :] for i in range(5)]\n",
    "compare_x = decoder(torch.cat([x, y] + y_preds))"
   ]
  },
  {
   "cell_type": "code",
   "execution_count": 45,
   "metadata": {},
   "outputs": [],
   "source": [
    "encoder = torch.load(\"models/encoder-five-epochs.pt\")\n",
    "org = encoder(observation.unsqueeze(0))"
   ]
  },
  {
   "cell_type": "code",
   "execution_count": 47,
   "metadata": {},
   "outputs": [],
   "source": [
    "pred = torch.normal(mu, sigma)"
   ]
  },
  {
   "cell_type": "code",
   "execution_count": 87,
   "metadata": {},
   "outputs": [],
   "source": [
    "images = decoder(pred.squeeze())"
   ]
  },
  {
   "cell_type": "code",
   "execution_count": 55,
   "metadata": {},
   "outputs": [
    {
     "data": {
      "text/plain": [
       "torch.Size([5, 3, 64, 64])"
      ]
     },
     "execution_count": 55,
     "metadata": {},
     "output_type": "execute_result"
    }
   ],
   "source": [
    "images.shape"
   ]
  },
  {
   "cell_type": "code",
   "execution_count": 83,
   "metadata": {},
   "outputs": [],
   "source": [
    "def show_image(img):\n",
    "    plt.imshow(img.detach().cpu().T)\n",
    "    plt.show()"
   ]
  },
  {
   "cell_type": "code",
   "execution_count": 91,
   "metadata": {},
   "outputs": [
    {
     "data": {
      "image/png": "[encoded data removed]",
      "text/plain": [
       "<Figure size 432x288 with 1 Axes>"
      ]
     },
     "metadata": {
      "needs_background": "light"
     },
     "output_type": "display_data"
    }
   ],
   "source": [
    "show_image(images[0])"
   ]
  },
  {
   "cell_type": "code",
   "execution_count": 81,
   "metadata": {},
   "outputs": [
    {
     "data": {
      "text/plain": [
       "torch.Size([5, 3, 64, 64])"
      ]
     },
     "execution_count": 81,
     "metadata": {},
     "output_type": "execute_result"
    }
   ],
   "source": [
    "images.shape"
   ]
  },
  {
   "cell_type": "code",
   "execution_count": 53,
   "metadata": {},
   "outputs": [
    {
     "data": {
      "text/plain": [
       "torch.Size([1, 5, 32])"
      ]
     },
     "execution_count": 53,
     "metadata": {},
     "output_type": "execute_result"
    }
   ],
   "source": [
    "images.shape"
   ]
  },
  {
   "cell_type": "code",
   "execution_count": 68,
   "metadata": {},
   "outputs": [],
   "source": [
    "observation, action = iter(data_loader).next()\n",
    "observation = observation[50].to(device)"
   ]
  },
  {
   "cell_type": "code",
   "execution_count": null,
   "metadata": {},
   "outputs": [],
   "source": []
  }
 ],
 "metadata": {
  "kernelspec": {
   "display_name": "Python 3",
   "language": "python",
   "name": "python3"
  },
  "language_info": {
   "codemirror_mode": {
    "name": "ipython",
    "version": 3
   },
   "file_extension": ".py",
   "mimetype": "text/x-python",
   "name": "python",
   "nbconvert_exporter": "python",
   "pygments_lexer": "ipython3",
   "version": "3.7.3"
  }
 },
 "nbformat": 4,
 "nbformat_minor": 4
}
