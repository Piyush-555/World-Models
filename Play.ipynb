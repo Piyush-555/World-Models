{
 "cells": [
  {
   "cell_type": "code",
   "execution_count": 8,
   "metadata": {},
   "outputs": [],
   "source": [
    "import torch\n",
    "import numpy as np\n",
    "from rollout import Rollout\n",
    "from array2gif import write_gif\n",
    "\n",
    "device = torch.device('cuda')"
   ]
  },
  {
   "cell_type": "code",
   "execution_count": 2,
   "metadata": {},
   "outputs": [
    {
     "name": "stderr",
     "output_type": "stream",
     "text": [
      "/home/piyush/.conda/envs/kaggle/lib/python3.7/site-packages/torch/serialization.py:453: SourceChangeWarning: source code of class 'mdnrnn.MDNRNN' has changed. you can retrieve the original source code by accessing the object's source attribute or set `torch.nn.Module.dump_patches = True` and use the patch tool to revert the changes.\n",
      "  warnings.warn(msg, SourceChangeWarning)\n"
     ]
    },
    {
     "data": {
      "text/plain": [
       "Controller(\n",
       "  (fc): Linear(in_features=288, out_features=3, bias=True)\n",
       ")"
      ]
     },
     "execution_count": 2,
     "metadata": {},
     "output_type": "execute_result"
    }
   ],
   "source": [
    "device = torch.device('cuda')\n",
    "\n",
    "encoder = torch.load(\"models/encoder-five-epochs.pt\")\n",
    "encoder.to(device)\n",
    "encoder.eval()\n",
    "\n",
    "rnn = torch.load(\"models/mdnrnn-wo-training.pt\")\n",
    "rnn.to(device)\n",
    "rnn.eval()\n",
    "\n",
    "cont = torch.load(\"models/controller-generation-75\") #.pt?\n",
    "cont.to(device)\n",
    "cont.eval()"
   ]
  },
  {
   "cell_type": "code",
   "execution_count": 24,
   "metadata": {},
   "outputs": [
    {
     "name": "stdout",
     "output_type": "stream",
     "text": [
      "Track generation: 1033..1295 -> 262-tiles track\n",
      "Reward: 919.9999999999944\n"
     ]
    },
    {
     "data": {
      "text/plain": [
       "919.9999999999944"
      ]
     },
     "execution_count": 24,
     "metadata": {},
     "output_type": "execute_result"
    }
   ],
   "source": [
    "Rollout(encoder, rnn, cont, render=True)"
   ]
  },
  {
   "cell_type": "code",
   "execution_count": 18,
   "metadata": {},
   "outputs": [],
   "source": [
    "frames = np.array(frames)\n",
    "frames = frames.transpose((0, 3, 1, 2)) # n * channels * width * height\n",
    "write_gif(frames, \"output.gif\", fps=30)"
   ]
  },
  {
   "cell_type": "code",
   "execution_count": 9,
   "metadata": {},
   "outputs": [],
   "source": [
    "dataset = [\n",
    "    np.array([\n",
    "        [[255, 0, 0], [255, 0, 0]],  # red intensities\n",
    "        [[0, 255, 0], [0, 255, 0]],  # green intensities\n",
    "        [[0, 0, 255], [0, 0, 255]]   # blue intensities\n",
    "    ]),\n",
    "    np.array([\n",
    "        [[0, 0, 255], [0, 0, 255]],\n",
    "        [[0, 255, 0], [0, 255, 0]],\n",
    "        [[255, 0, 0], [255, 0, 0]]\n",
    "    ])\n",
    "]"
   ]
  },
  {
   "cell_type": "code",
   "execution_count": 17,
   "metadata": {},
   "outputs": [
    {
     "data": {
      "text/plain": [
       "(932, 96, 96, 3)"
      ]
     },
     "execution_count": 17,
     "metadata": {},
     "output_type": "execute_result"
    }
   ],
   "source": [
    "frames.shape"
   ]
  },
  {
   "cell_type": "code",
   "execution_count": null,
   "metadata": {},
   "outputs": [],
   "source": []
  }
 ],
 "metadata": {
  "kernelspec": {
   "display_name": "Python 3",
   "language": "python",
   "name": "python3"
  },
  "language_info": {
   "codemirror_mode": {
    "name": "ipython",
    "version": 3
   },
   "file_extension": ".py",
   "mimetype": "text/x-python",
   "name": "python",
   "nbconvert_exporter": "python",
   "pygments_lexer": "ipython3",
   "version": "3.7.3"
  }
 },
 "nbformat": 4,
 "nbformat_minor": 4
}
